{
  "nbformat": 4,
  "nbformat_minor": 0,
  "metadata": {
    "colab": {
      "name": "Problem Solving with C phase 2.ipynb",
      "provenance": [],
      "collapsed_sections": []
    },
    "kernelspec": {
      "name": "python3",
      "display_name": "Python 3"
    }
  },
  "cells": [
    {
      "cell_type": "code",
      "metadata": {
        "id": "9QNRy67yJJgY",
        "colab_type": "code",
        "colab": {}
      },
      "source": [
        "# Q1) input\n",
        "#     5 - size\n",
        "#     1 7 8 23 3\n",
        "#     output\n",
        "#     1 1 0 1 1"
      ],
      "execution_count": 0,
      "outputs": []
    },
    {
      "cell_type": "code",
      "metadata": {
        "id": "V6rRC03uJxj9",
        "colab_type": "code",
        "colab": {}
      },
      "source": [
        "# Answer code is\n",
        "\n",
        "    #include<stdio.h>\n",
        "int main()\n",
        "{\n",
        "\tint a[100],n,i;//n-1 < n < 100\n",
        "\t\n",
        "\t\n",
        "\tscanf(\"%d\",&n);\n",
        "\tfor(i=0;i<n;i++)\n",
        "\t{\n",
        "\t\tscanf(\"%d\",&a[i]);\n",
        "\t}\t\n",
        "\tfor(i=0;i<n;i++)\n",
        "\t{\n",
        "\t\tif(a[i]%2==0)\n",
        "\t\t{\n",
        "\t\t\tprintf(\"0 \");\t\t\t\n",
        "\t\t}\n",
        "\t\telse{\n",
        "\t\t\tprintf(\"1 \");\n",
        "\t\t}\n",
        "\t}\n",
        "\n",
        "return 0;\n",
        "}"
      ],
      "execution_count": 0,
      "outputs": []
    },
    {
      "cell_type": "code",
      "metadata": {
        "id": "O8_C3G_-Jxh0",
        "colab_type": "code",
        "colab": {}
      },
      "source": [
        "# Q2) input\n",
        "#     5 - size\n",
        "#     19 2 1 24 8\n",
        "#     output\n",
        "#     <1,24> -- least and largest"
      ],
      "execution_count": 0,
      "outputs": []
    },
    {
      "cell_type": "code",
      "metadata": {
        "id": "MKbfRnaNJxfw",
        "colab_type": "code",
        "colab": {}
      },
      "source": [
        "# Answer code is\n",
        "\n",
        "    #include<stdio.h>\n",
        "int main()\n",
        "{\n",
        "\tint a[10],n,min,max,i;\n",
        "\tscanf(\"%d\",&n);\n",
        "\tfor(i=0;i<n;i++)\n",
        "\t{\n",
        "\t\tscanf(\"%d\",&a[i]);\n",
        "\t}\n",
        "\tmin = max = a[0];\n",
        "\tfor(i=0;i<n;i++)\n",
        "\t{\n",
        "\t\tif(max<a[i])\n",
        "\t\t{\n",
        "\t\t\tmax = a[i];\n",
        "\t\t}\n",
        "\t\tif(min>a[i])\n",
        "\t\t{\n",
        "\t\t\tmin = a[i];\n",
        "\t\t}\n",
        "\t}\n",
        "\tprintf(\"<%d,%d>\",min,max);\n",
        "\treturn 0;\n",
        "}"
      ],
      "execution_count": 0,
      "outputs": []
    },
    {
      "cell_type": "code",
      "metadata": {
        "id": "cAWQBcNtJxdo",
        "colab_type": "code",
        "colab": {}
      },
      "source": [
        "# Q3) input\n",
        "#     5\n",
        "#     1 3 7 8 4\n",
        "#     output\n",
        "#     1 7 24 28 4\n",
        "# hint first and last items are same ,middle -- prev*next"
      ],
      "execution_count": 0,
      "outputs": []
    },
    {
      "cell_type": "code",
      "metadata": {
        "id": "oKHMtBoGJxbp",
        "colab_type": "code",
        "colab": {}
      },
      "source": [
        "# Answer code is\n",
        "\n",
        "    #include<stdio.h>\n",
        "int main()\n",
        "{\n",
        "int a[10],n,i;\n",
        "scanf(\"%d\",&n);\n",
        "for(i=0;i<n;i++)\n",
        "{\n",
        "scanf(\"%d\",&a[i]);\n",
        "}\n",
        "\tfor(i=0;i<n;i++)\n",
        "\t{\n",
        "\t\tif(i==0 || i==n-1)\n",
        "\t\t{\n",
        "\t\t\tprintf(\"%d \",a[i]);\n",
        "\t\t}\n",
        "\t\telse\n",
        "\t\t{\n",
        "\t\tprintf(\"%d \",a[i-1]*a[i+1]);\n",
        "\t\t}\n",
        "\t}\n",
        "return 0;\n",
        "}"
      ],
      "execution_count": 0,
      "outputs": []
    },
    {
      "cell_type": "code",
      "metadata": {
        "id": "7Ebnp107JxZl",
        "colab_type": "code",
        "colab": {}
      },
      "source": [
        "# Q4) input\n",
        "#     145\n",
        "#     output\n",
        "#     1 4 5\n",
        "# Hint - number to array conversion"
      ],
      "execution_count": 0,
      "outputs": []
    },
    {
      "cell_type": "code",
      "metadata": {
        "id": "Y2BGmb3mJxXN",
        "colab_type": "code",
        "colab": {}
      },
      "source": [
        "# Answer code is\n",
        "\n",
        "    #include<stdio.h>\n",
        "int main()\n",
        "{\n",
        "\tlong x;\n",
        "\tint a[100],i,n=0;\n",
        "\tscanf(\"%ld\",&x);\n",
        "\twhile(x!=0)\n",
        "\t{\n",
        "\ta[n]=x%10;\n",
        "\tx=x/10;\n",
        "\tn++;\n",
        "}\n",
        "for(i=n-1;i>=0;i--)\n",
        "\t{\n",
        "     printf(\"%d \",a[i]);\n",
        "\t}\n",
        "return 0;\n",
        "}"
      ],
      "execution_count": 0,
      "outputs": []
    },
    {
      "cell_type": "code",
      "metadata": {
        "id": "jFsx-i1WJxKN",
        "colab_type": "code",
        "colab": {}
      },
      "source": [
        "# Q5) input\n",
        "#     13852\n",
        "#     output\n",
        "#     1 5 2\n",
        "# Hint - for a digit if prev and next is even then print that digit"
      ],
      "execution_count": 0,
      "outputs": []
    },
    {
      "cell_type": "code",
      "metadata": {
        "id": "JsCQVt2ARyg0",
        "colab_type": "code",
        "colab": {}
      },
      "source": [
        "# Answer code is\n",
        "\n",
        "    #include<stdio.h>\n",
        "int main()\n",
        "{\n",
        "\tlong x;\n",
        "\tint a[100],i,n=0;\n",
        "\tscanf(\"%ld\",&x);\n",
        "\twhile(x!=0)\n",
        "\t{\n",
        "\ta[n]=x%10;\n",
        "\tx=x/10;\n",
        "\tn++;\n",
        "}\n",
        "for(i=n-1;i>=0;i--)\n",
        "\t{\n",
        "     if(i==n-1 || i==0)\n",
        "     {\n",
        "     \tprintf(\"%d \",a[i]);\n",
        "\t }\n",
        "\t else if(a[i-1]%2==0 && a[i+1]%2==0)\n",
        "\t {\n",
        "\t \tprintf(\"%d \",a[i]);\n",
        "\t }\n",
        "\t}\n",
        "return 0;\n",
        "}\n"
      ],
      "execution_count": 0,
      "outputs": []
    },
    {
      "cell_type": "code",
      "metadata": {
        "id": "4dF2u5hYRye8",
        "colab_type": "code",
        "colab": {}
      },
      "source": [
        "# Q6) input\n",
        "#     13852\n",
        "#     output \n",
        "#     385\n",
        "# Hint- remove first and last digit and print the middle number"
      ],
      "execution_count": 0,
      "outputs": []
    },
    {
      "cell_type": "code",
      "metadata": {
        "id": "A0vsBsl9RydP",
        "colab_type": "code",
        "colab": {}
      },
      "source": [
        "# Answer code is\n",
        "\n",
        "    #include<stdio.h>\n",
        "int main()\n",
        "{\n",
        "\tlong x;\n",
        "\tint a[100],i,n=0,res=0;\n",
        "\tscanf(\"%ld\",&x);\n",
        "\twhile(x!=0)\n",
        "\t{\n",
        "\ta[n]=x%10;\n",
        "\tx=x/10;\n",
        "\tn++;\n",
        "}\n",
        "for(i=n-1;i>=0;i--)\n",
        "\t{\n",
        "     if(i==n-1 || i==0)\n",
        "     { continue;\n",
        "\t }\n",
        "\t else\n",
        "\t {\n",
        "\t\tres=res*10+a[i];\n",
        "\t }\n",
        "\t}\n",
        "printf(\"%d \",res);\t\n",
        "return 0;\n",
        "}"
      ],
      "execution_count": 0,
      "outputs": []
    },
    {
      "cell_type": "code",
      "metadata": {
        "id": "bW3UjjlRRybN",
        "colab_type": "code",
        "colab": {}
      },
      "source": [
        "# Q7) input\n",
        "#     6\n",
        "#     19 1 121 87 88 16\n",
        "#     output\n",
        "#     3 - the count of palindrome numbers"
      ],
      "execution_count": 0,
      "outputs": []
    },
    {
      "cell_type": "code",
      "metadata": {
        "id": "EJy8k4fpRyYb",
        "colab_type": "code",
        "colab": {}
      },
      "source": [
        "# Answer code is\n",
        "\n",
        "    #include<stdio.h>\n",
        "int isPalin(int x)\n",
        "{\n",
        "\t//reverse is same as original -True 1\n",
        "\t//reverse is not same -False 0\n",
        "\tint rev=0,r,buffer=x;\n",
        "\twhile(x!=0)\n",
        "\t{\n",
        "\tr=x%10;\n",
        "\trev=rev*10+r;\n",
        "\tx=x/10;\n",
        "\t}\n",
        "\tif(buffer==rev)\n",
        "\t{\n",
        "\t\treturn 1;\n",
        "\t}\n",
        "\telse{\n",
        "\t\treturn 0;\n",
        "\t}\n",
        "}\n",
        "int main()\n",
        "{\n",
        "\tint a[100],n,i,res,count=0;\n",
        "\tscanf(\"%d\",&n);\n",
        "\tfor(i=0;i<n;i++)\n",
        "\t{\n",
        "\t\tscanf(\"%d\",&a[i]);\n",
        "\t}\n",
        "\tfor(i=0;i<n;i++)\n",
        "\t{\n",
        "\t\tres =isPalin(a[i]);\n",
        "\t\tif(res==1)\n",
        "\t\t{\n",
        "\t\t\tcount++;\n",
        "\t\t}\n",
        "\t}\n",
        "\tprintf(\"%d\",count);\t\n",
        "\treturn 0;\n",
        "}"
      ],
      "execution_count": 0,
      "outputs": []
    },
    {
      "cell_type": "code",
      "metadata": {
        "id": "lg9ZxIg1NRkQ",
        "colab_type": "code",
        "colab": {}
      },
      "source": [
        "# Q8) input\n",
        "#     6\n",
        "#     19 1 121 87 88 16\n",
        "#     2-k\n",
        "#     output\n",
        "#     121 - Kth palindrome of the list"
      ],
      "execution_count": 0,
      "outputs": []
    },
    {
      "cell_type": "code",
      "metadata": {
        "id": "loAt34FeNRgd",
        "colab_type": "code",
        "colab": {}
      },
      "source": [
        "# Answer code is\n",
        "\n",
        "    #include<stdio.h>\n",
        "int isPalin(int x)\n",
        "{\n",
        "\t//reverse is same as original -True 1\n",
        "\t//reverse is not same -False 0\n",
        "\tint rev=0,r,buffer=x;\n",
        "\twhile(x!=0)\n",
        "\t{\n",
        "\tr=x%10;\n",
        "\trev=rev*10+r;\n",
        "\tx=x/10;\n",
        "\t}\n",
        "\tif(buffer==rev)\n",
        "\t{\n",
        "\t\treturn 1;\n",
        "\t}\n",
        "\telse{\n",
        "\t\treturn 0;\n",
        "\t}\n",
        "}\n",
        "int main()\n",
        "{\n",
        "\tint a[100],n,k,i,res,count=0;\n",
        "\tscanf(\"%d\",&n);\n",
        "\tfor(i=0;i<n;i++)\n",
        "\t{\n",
        "\t\tscanf(\"%d\",&a[i]);\n",
        "\t}\n",
        "\tscanf(\"%d\",&k);\n",
        "\tfor(i=0;i<n;i++)\n",
        "\t{\n",
        "\t\tif(isPalin(a[i]))\n",
        "\t\t{ \n",
        "\t\t\tcount++;\n",
        "\t\t\tif(count==k)\n",
        "\t\t\t{\n",
        "\t\t\t\tprintf(\"%d\",a[i]);\n",
        "\t\t\t\tbreak;\n",
        "\t\t\t}\n",
        "\t\t}\n",
        "\t}\t\n",
        "\treturn 0;\n",
        "}"
      ],
      "execution_count": 0,
      "outputs": []
    },
    {
      "cell_type": "code",
      "metadata": {
        "id": "TF14sgE5NRd4",
        "colab_type": "code",
        "colab": {}
      },
      "source": [
        "# Q9) input\n",
        "#     5\n",
        "#     1 3 1 5 3\n",
        "#     output\n",
        "#     5 - output is the digit which is not repeating"
      ],
      "execution_count": 0,
      "outputs": []
    },
    {
      "cell_type": "code",
      "metadata": {
        "id": "VPSBqReYNRcA",
        "colab_type": "code",
        "colab": {}
      },
      "source": [
        "# Answer code is\n",
        "\n",
        "    #include<stdio.h>\n",
        "int main()\n",
        "{\n",
        "\tint a[100],n,i,j,count;\n",
        "\tscanf(\"%d\",&n);\n",
        "\tfor(i=0;i<n;i++)\n",
        "\t{\n",
        "\t\tscanf(\"%d\",&a[i]);\n",
        "\t}\n",
        "\tfor(i=0;i<n;i++)\n",
        "\t{\n",
        "\t\tcount=0;\n",
        "\t\tfor(j=0;j<n;j++)\n",
        "\t\t\tif(a[i]==a[j])\n",
        "\t\t\t{\n",
        "\t\t\t\tcount++;\n",
        "\t\t\t}\n",
        "\t\tif(count==1)\n",
        "\t\t{\n",
        "\t\t\tprintf(\"%d \",a[i]);\n",
        "\t\t}\n",
        "\t}\n",
        "\treturn 0;\n",
        "}"
      ],
      "execution_count": 0,
      "outputs": []
    },
    {
      "cell_type": "code",
      "metadata": {
        "id": "MkcOUuToNRaC",
        "colab_type": "code",
        "colab": {}
      },
      "source": [
        "# Q10) input\n",
        "#      5\n",
        "#      1 2 3 4 5\n",
        "#      output\n",
        "#      9 - (1+3+5)"
      ],
      "execution_count": 0,
      "outputs": []
    },
    {
      "cell_type": "code",
      "metadata": {
        "id": "LE97aEYENRXu",
        "colab_type": "code",
        "colab": {}
      },
      "source": [
        "# Q11) input\n",
        "#      3\n",
        "#      1 2 3\n",
        "#      4 5 6\n",
        "#      7 8 9\n",
        "#      output\n",
        "#      15 - difference of right and left diagonal"
      ],
      "execution_count": 0,
      "outputs": []
    },
    {
      "cell_type": "code",
      "metadata": {
        "id": "GL5EqWlaNRVj",
        "colab_type": "code",
        "colab": {}
      },
      "source": [
        "# Answer code is\n",
        "\n",
        "    "
      ],
      "execution_count": 0,
      "outputs": []
    },
    {
      "cell_type": "code",
      "metadata": {
        "id": "4_uVWAA4NRTT",
        "colab_type": "code",
        "colab": {}
      },
      "source": [
        "# Q12) input\n",
        "#      4\n",
        "#      1 2 3 4\n",
        "#      1 1 2 2\n",
        "#      1 1 3 3\n",
        "#      1 4 1 3\n",
        "#      output\n",
        "#      <2,2>\n",
        "#      <2,2>\n",
        "#      <0,4>\n",
        "#      <1,3> "
      ],
      "execution_count": 0,
      "outputs": []
    },
    {
      "cell_type": "code",
      "metadata": {
        "id": "PrYNuU6BHfS7",
        "colab_type": "code",
        "colab": {}
      },
      "source": [
        "# Answer code is\n",
        "\n",
        "#    //even and odd count\n",
        "#include<stdio.h>\n",
        "int main()\n",
        "{\n",
        "\tint a[10][10],n,i,j,evencnt,oddcnt;\n",
        "\tscanf(\"%d\",&n);\n",
        "\tfor(i=0;i<n;i++)\n",
        "\t{\n",
        "\t\tfor(j=0;j<n;j++)\n",
        "\t\t{\n",
        "\t\t\tscanf(\"%d\",&a[i][j]);\n",
        "\t\t}\n",
        "\t}\t\n",
        "\tfor(i=0;i<n;i++)\n",
        "\t{\n",
        "\t\tevencnt=oddcnt=0;\t\n",
        "\t\tfor(j=0;j<n;j++)\n",
        "\t\t{\n",
        "\t\t\tif(a[i][j]%2==0)\n",
        "\t\t\t{\n",
        "\t\t\t\tevencnt++;\n",
        "\t\t\t}\n",
        "\t\t\telse{\n",
        "\t\t\t\toddcnt++;\n",
        "\t\t\t}\n",
        "\t\t}\n",
        "\t\tprintf(\"<%d,%d>\",evencnt,oddcnt);\n",
        "\t}\n",
        "}\n"
      ],
      "execution_count": 0,
      "outputs": []
    },
    {
      "cell_type": "code",
      "metadata": {
        "id": "0n8lkCrhHfOC",
        "colab_type": "code",
        "colab": {}
      },
      "source": [
        "# Q13) input\n",
        "#     4\n",
        "#     4 5 8 11\n",
        "#     5 3 2 1\n",
        "#     4 7 21 3\n",
        "#     12 4 6 8\n",
        "#     output - min and max values of a row\n",
        "#     <4,11>\n",
        "#     <1,2>\n",
        "#     <4,21>\n",
        "#     <12,4>"
      ],
      "execution_count": 0,
      "outputs": []
    },
    {
      "cell_type": "code",
      "metadata": {
        "id": "LJJy7W_OHfKu",
        "colab_type": "code",
        "colab": {}
      },
      "source": [
        "# Answer code is\n",
        "\n",
        "    #include<stdio.h>\n",
        "int main()\n",
        "{\n",
        "\tint a[10][10],n,i,j,min,max;\n",
        "\tscanf(\"%d\",&n);\n",
        "\tfor(i=0;i<n;i++)\n",
        "\t{\n",
        "\t\tfor(j=0;j<n;j++)\n",
        "\t\t{\n",
        "\t\t\tscanf(\"%d\",&a[i][j]);\n",
        "\t\t}\n",
        "\t}\n",
        "\tfor(i=0;i<n;i++)\n",
        "\t{ \n",
        "\tmin=max=a[i][0];\n",
        "\t\tfor(j=0;j<n;j++)\n",
        "\t\t{\n",
        "\t\t\tif(max<a[i][j])\n",
        "\t\t\t{\n",
        "\t\t\t\tmax=a[i][j];\n",
        "\t\t\t}\n",
        "\t\t\tif(min>a[i][j]){\n",
        "\t\t\t\tmin=a[i][j];\n",
        "\t\t\t}\n",
        "\t\t}\n",
        "\t\tprintf(\"<%d,%d>\",min,max);\n",
        "\t}\n",
        "}"
      ],
      "execution_count": 0,
      "outputs": []
    },
    {
      "cell_type": "code",
      "metadata": {
        "id": "8DwNBMibHfHw",
        "colab_type": "code",
        "colab": {}
      },
      "source": [
        "# Q14) input\n",
        "#      4\n",
        "#      1 2 3 4\n",
        "#      5 6 7 8\n",
        "#      1 2 3 4\n",
        "#      5 6 7 8\n",
        "#     output\n",
        "#     18 - (6+7+2+3)\n",
        "# Hint- the num,bers which is not present on the edges"
      ],
      "execution_count": 0,
      "outputs": []
    },
    {
      "cell_type": "code",
      "metadata": {
        "id": "zOBAUUQBHfFZ",
        "colab_type": "code",
        "colab": {}
      },
      "source": [
        "# Answer code is\n",
        "\n",
        "    #include<stdio.h>\n",
        "int main()\n",
        "{\n",
        "\tint a[10][10],n,i,j,s=0;\n",
        "\tscanf(\"%d\",&n);\n",
        "\tfor(i=0;i<n;i++)\n",
        "\t{\n",
        "\t\tfor(j=0;j<n;j++)\n",
        "\t\t{\n",
        "\t\t\tscanf(\"%d\",&a[i][j]);\n",
        "\t\t}\n",
        "\t}\t\n",
        "\tfor(i=0;i<n;i++)\n",
        "\t{\t\n",
        "\t\tfor(j=0;j<n;j++)\n",
        "\t\t{\n",
        "\t\t\tif(i!=0 && j!=0 && i!=n-1 && j!=n-1)\n",
        "\t\t\t{\n",
        "\t\t\t\ts =s+a[i][j];\n",
        "\t\t\t}\n",
        "\t\t}\t\t\n",
        "\t}\n",
        "\tprintf(\"%d\",s);\n",
        "}\n"
      ],
      "execution_count": 0,
      "outputs": []
    },
    {
      "cell_type": "code",
      "metadata": {
        "id": "JEBJHDDQHfCD",
        "colab_type": "code",
        "colab": {}
      },
      "source": [
        "# Q15) input\n",
        "#      2 3\n",
        "#      1 2 3\n",
        "#      4 5 6\n",
        "#      output\n",
        "#      * * * * *\n",
        "#      * 1 2 3 *\n",
        "#      * 4 5 6 *\n",
        "#      * * * * *"
      ],
      "execution_count": 0,
      "outputs": []
    },
    {
      "cell_type": "code",
      "metadata": {
        "id": "Z45GOX3jLB11",
        "colab_type": "code",
        "colab": {}
      },
      "source": [
        "# answer code is\n",
        "\n",
        "    #include<stdio.h>\n",
        "int main()\n",
        "{\n",
        "\tint a[10][10],m,n,i,j,s=0;\n",
        "\tscanf(\"%d\",&m);\n",
        "\tscanf(\"%d\",&n);\n",
        "\tfor(i=1;i<=m;i++)\n",
        "\t{\n",
        "\t\tfor(j=1;j<=n;j++)\n",
        "\t\t{\n",
        "\t\t\tscanf(\"%d\",&a[i][j]);\n",
        "\t\t}\n",
        "\t}\t\n",
        "\tfor(i=0;i<=(m+1);i++)\n",
        "\t{\t\n",
        "\t\tfor(j=0;j<=(n+1);j++)\n",
        "\t\t{\n",
        "\t\t\tif(i==0 || j==0 || i==(m+1) || j==(n+1)){\n",
        "\t\t\t\n",
        "\t\t\tprintf(\"* \");\n",
        "\t\t}\n",
        "\t\telse{\n",
        "\t\t\tprintf(\"%d \",a[i][j]);\n",
        "\t\t}\n",
        "\t}\n",
        "\tprintf(\"\\n\");\n",
        "}\n",
        "return 0;\n",
        "}"
      ],
      "execution_count": 0,
      "outputs": []
    },
    {
      "cell_type": "code",
      "metadata": {
        "id": "uUXBSPFwLBzc",
        "colab_type": "code",
        "colab": {}
      },
      "source": [
        "# Q16) input\n",
        "#       2 3\n",
        "#       1 2 3\n",
        "#       4 5 6\n",
        "#       output\n",
        "#       $ $ $ $ $ $ $\n",
        "#       $ * * * * * $\n",
        "#       $ * 1 2 3 * $\n",
        "#       $ * 4 5 6 * $\n",
        "#       $ * * * * * $\n",
        "#       $ $ $ $ $ $ $ "
      ],
      "execution_count": 0,
      "outputs": []
    },
    {
      "cell_type": "code",
      "metadata": {
        "id": "_jzOElM4LBxE",
        "colab_type": "code",
        "colab": {}
      },
      "source": [
        "# Answer code is\n",
        "\n",
        "    "
      ],
      "execution_count": 0,
      "outputs": []
    },
    {
      "cell_type": "code",
      "metadata": {
        "id": "pTMlSxCbLBuv",
        "colab_type": "code",
        "colab": {}
      },
      "source": [
        ""
      ],
      "execution_count": 0,
      "outputs": []
    },
    {
      "cell_type": "code",
      "metadata": {
        "id": "uVsmjUkWLBrl",
        "colab_type": "code",
        "colab": {}
      },
      "source": [
        ""
      ],
      "execution_count": 0,
      "outputs": []
    },
    {
      "cell_type": "code",
      "metadata": {
        "id": "W-XiKvsRIAwS",
        "colab_type": "code",
        "colab": {}
      },
      "source": [
        ""
      ],
      "execution_count": 0,
      "outputs": []
    },
    {
      "cell_type": "code",
      "metadata": {
        "id": "SjnIIbYKIAsR",
        "colab_type": "code",
        "colab": {}
      },
      "source": [
        ""
      ],
      "execution_count": 0,
      "outputs": []
    },
    {
      "cell_type": "code",
      "metadata": {
        "id": "1MG9AOYlIAph",
        "colab_type": "code",
        "colab": {}
      },
      "source": [
        ""
      ],
      "execution_count": 0,
      "outputs": []
    },
    {
      "cell_type": "code",
      "metadata": {
        "id": "f6FHOnqZIAnO",
        "colab_type": "code",
        "colab": {}
      },
      "source": [
        ""
      ],
      "execution_count": 0,
      "outputs": []
    },
    {
      "cell_type": "code",
      "metadata": {
        "id": "ZzYIUTSNIAkm",
        "colab_type": "code",
        "colab": {}
      },
      "source": [
        ""
      ],
      "execution_count": 0,
      "outputs": []
    },
    {
      "cell_type": "code",
      "metadata": {
        "id": "kL8syxJHIAhq",
        "colab_type": "code",
        "colab": {}
      },
      "source": [
        ""
      ],
      "execution_count": 0,
      "outputs": []
    }
  ]
}